{
 "cells": [
  {
   "cell_type": "markdown",
   "id": "8141eb0495553a35",
   "metadata": {},
   "source": [
    "# PROBABILIDAD Y DECISIÓN - SIMULANDO LA DISTRUBUCIÓN BINOMIAL"
   ]
  },
  {
   "cell_type": "markdown",
   "id": "e5ab123086ee0430",
   "metadata": {},
   "source": [
    "## Autor: Felipe Fernández Rodriguez"
   ]
  },
  {
   "cell_type": "markdown",
   "id": "641a2d97-824a-45f9-91d0-3c786f4cb047",
   "metadata": {},
   "source": [
    "### [Video explicativo](https://drive.google.com/file/d/1HcMbtklc2naTDLG5O1ahMuzuRWSx8DDr/view?usp=sharing)"
   ]
  },
  {
   "cell_type": "code",
   "execution_count": 76,
   "id": "d08a8353b6a84b47",
   "metadata": {
    "ExecuteTime": {
     "end_time": "2025-09-18T00:52:50.040259Z",
     "start_time": "2025-09-18T00:52:50.036043Z"
    }
   },
   "outputs": [],
   "source": [
    "# Librerías\n",
    "import numpy as np\n",
    "import matplotlib.pyplot as plt\n",
    "from scipy.stats import binom, chisquare"
   ]
  },
  {
   "cell_type": "markdown",
   "id": "281920c95449c5f0",
   "metadata": {},
   "source": [
    "## 1. Un equipo de producción tiene una probabilidad de éxito del 80% al ensamblar correctamente un producto. Simula 100 ensambles, cada uno con 15 intentos. Genera los datos simulados de los ensambles y calcula el promedio y la varianza del número de éxitos por ensamble. ¿Se cumple la propiedad teórica de que la varianza es = n⋅p⋅(1−p)?"
   ]
  },
  {
   "cell_type": "code",
   "execution_count": 77,
   "id": "initial_id",
   "metadata": {
    "ExecuteTime": {
     "end_time": "2025-09-18T00:52:50.052652Z",
     "start_time": "2025-09-18T00:52:50.049821Z"
    }
   },
   "outputs": [],
   "source": [
    "n = 15        # número de intentos por ensamble\n",
    "p = 0.8       # probabilidad de éxito\n",
    "ensambles = 100  # número de ensambles a simular"
   ]
  },
  {
   "cell_type": "code",
   "execution_count": 78,
   "id": "586fac4f7bed9f01",
   "metadata": {
    "ExecuteTime": {
     "end_time": "2025-09-18T00:52:50.064092Z",
     "start_time": "2025-09-18T00:52:50.061384Z"
    }
   },
   "outputs": [],
   "source": [
    "# Simulación con distribución binomial\n",
    "simulacion = np.random.binomial(n, p, ensambles)"
   ]
  },
  {
   "cell_type": "code",
   "execution_count": 79,
   "id": "d6f971a74fa3c146",
   "metadata": {
    "ExecuteTime": {
     "end_time": "2025-09-18T00:52:50.075274Z",
     "start_time": "2025-09-18T00:52:50.071784Z"
    }
   },
   "outputs": [],
   "source": [
    "# Promedio y varianza empírica\n",
    "media_emp = np.mean(simulacion) # el promedio de los 100 ensambles simulados\n",
    "var_emp = np.var(simulacion, ddof = 1)  # la varianza muestral de esos datos (con ddof = 1 para corregir el sesgo de la varianza muestral)."
   ]
  },
  {
   "cell_type": "code",
   "execution_count": 80,
   "id": "9da9eb8047eea4d",
   "metadata": {
    "ExecuteTime": {
     "end_time": "2025-09-18T00:52:50.084845Z",
     "start_time": "2025-09-18T00:52:50.081709Z"
    }
   },
   "outputs": [],
   "source": [
    "# Valores teóricos\n",
    "media_teo = n * p\n",
    "var_teo = n * p * (1 - p)"
   ]
  },
  {
   "cell_type": "code",
   "execution_count": 81,
   "id": "dca40fd92010cc3f",
   "metadata": {
    "ExecuteTime": {
     "end_time": "2025-09-18T00:52:50.098455Z",
     "start_time": "2025-09-18T00:52:50.092668Z"
    }
   },
   "outputs": [
    {
     "name": "stdout",
     "output_type": "stream",
     "text": [
      "---- Resultados de la simulación ----\n",
      "Media empírica: 12.12\n",
      "Varianza empírica: 1.82\n",
      "Media teórica: 12.00\n",
      "Varianza teórica: 2.40\n"
     ]
    }
   ],
   "source": [
    "print(\"---- Resultados de la simulación ----\")\n",
    "print(f\"Media empírica: {media_emp:.2f}\")\n",
    "print(f\"Varianza empírica: {var_emp:.2f}\")\n",
    "print(f\"Media teórica: {media_teo:.2f}\")\n",
    "print(f\"Varianza teórica: {var_teo:.2f}\")"
   ]
  },
  {
   "cell_type": "markdown",
   "id": "2634921788d64cd3",
   "metadata": {},
   "source": [
    "#### R// La simulación confirma la teoría: los valores empíricos están muy próximos a los valores teóricos."
   ]
  },
  {
   "cell_type": "markdown",
   "id": "47cd7457917eb285",
   "metadata": {},
   "source": [
    "## Para una distribución binomial con n=15 intentos y p=0.8, calcula las siguientes probabilidades:"
   ]
  },
  {
   "cell_type": "markdown",
   "id": "a609b0a6691f22e1",
   "metadata": {},
   "source": [
    "### a) ¿Cuál es la probabilidad de obtener exactamente 12 éxitos en un intento?"
   ]
  },
  {
   "cell_type": "code",
   "execution_count": 82,
   "id": "41052d59e2aa9eb5",
   "metadata": {
    "ExecuteTime": {
     "end_time": "2025-09-18T00:52:50.134365Z",
     "start_time": "2025-09-18T00:52:50.129956Z"
    }
   },
   "outputs": [
    {
     "name": "stdout",
     "output_type": "stream",
     "text": [
      "P(X = 12) = 0.2501\n"
     ]
    }
   ],
   "source": [
    "prob_12 = binom.pmf(12, n, p) # calcula la función de probabilidad de masa (PMF) de la distribución binomial.\n",
    "\n",
    "print(f\"P(X = 12) = {prob_12:.4f}\")"
   ]
  },
  {
   "cell_type": "markdown",
   "id": "e50703ce2319e8f5",
   "metadata": {},
   "source": [
    "#### R// La probabilidad de obtener exactamente 12 éxitos en 15 intentos es aproximadamente 25%."
   ]
  },
  {
   "cell_type": "markdown",
   "id": "ced2f6b1f6bb2f39",
   "metadata": {},
   "source": [
    "### b) ¿Cuál es la probabilidad de obtener al menos 10 éxitos en un intento?"
   ]
  },
  {
   "cell_type": "code",
   "execution_count": 83,
   "id": "2706356837635d57",
   "metadata": {
    "ExecuteTime": {
     "end_time": "2025-09-18T00:52:50.166536Z",
     "start_time": "2025-09-18T00:52:50.162014Z"
    }
   },
   "outputs": [
    {
     "name": "stdout",
     "output_type": "stream",
     "text": [
      "P(X >= 10) = 0.9389\n"
     ]
    }
   ],
   "source": [
    "prob_10_mas = 1 - binom.cdf(9, n, p) # calcula la probabilidad de tener 9 o menos éxitos en 15 intentos. Como queremos al menos 10 éxitos, usamos la probabilidad complementaria\n",
    "\n",
    "print(f\"P(X >= 10) = {prob_10_mas:.4f}\")"
   ]
  },
  {
   "cell_type": "markdown",
   "id": "6cbe74d53a9cb302",
   "metadata": {},
   "source": [
    "#### R// La probabilidad de tener 10 o más éxitos en 15 intentos es 93.89%."
   ]
  },
  {
   "cell_type": "markdown",
   "id": "9625ba9ea873fa9a",
   "metadata": {},
   "source": [
    "### c) ¿Cuál es la probabilidad de obtener entre 8 y 12 éxitos (inclusive)?"
   ]
  },
  {
   "cell_type": "code",
   "execution_count": 84,
   "id": "538e0406a6c57c91",
   "metadata": {
    "ExecuteTime": {
     "end_time": "2025-09-18T00:52:50.187194Z",
     "start_time": "2025-09-18T00:52:50.182385Z"
    }
   },
   "outputs": [
    {
     "name": "stdout",
     "output_type": "stream",
     "text": [
      "P(8 <= X <= 12) = 0.5977\n"
     ]
    }
   ],
   "source": [
    "prob_8_12 = binom.cdf(12, n, p) - binom.cdf(7, n, p) # probabilidad de tener 12 o menos éxitos - probabilidad de tener 7 o menos éxitos.\n",
    "\n",
    "print(f\"P(8 <= X <= 12) = {prob_8_12:.4f}\")"
   ]
  },
  {
   "cell_type": "markdown",
   "id": "3acc026df12481af",
   "metadata": {},
   "source": [
    "#### R// La probabilidad de obtener entre 8 y 12 éxitos (inclusive) en 15 intentos es aproximadamente 59.77%."
   ]
  },
  {
   "cell_type": "markdown",
   "id": "2f34b80eef1faf67",
   "metadata": {},
   "source": [
    "## 3. Crea un gráfico de barras que muestre la función de probabilidad de masa (PMF) para n=15 y p=0.8, para valores entre 0 y 15. Compara el gráfico teórico con un histograma de los datos simulados en el numeral 1. ¿Qué observas sobre el ajuste entre los datos simulados y la distribución binomial teórica?"
   ]
  },
  {
   "cell_type": "code",
   "execution_count": 85,
   "id": "5f9088e9525f3437",
   "metadata": {
    "ExecuteTime": {
     "end_time": "2025-09-18T00:52:50.838874Z",
     "start_time": "2025-09-18T00:52:50.201385Z"
    }
   },
   "outputs": [
    {
     "data": {
      "image/png": "[encoded data removed]",
      "text/plain": [
       "<Figure size 1000x500 with 1 Axes>"
      ]
     },
     "jetTransient": {
      "display_id": null
     },
     "metadata": {},
     "output_type": "display_data"
    }
   ],
   "source": [
    "x = np.arange(0, n + 1) # genera los valores posibles de éxitos (0 a 15)\n",
    "pmf_teo = binom.pmf(x, n, p) # calcula la función de probabilidad de masa (PMF) para cada valor de x, es decir, la probabilidad teórica de tener exactamente 0, 1, 2, ..., 15 éxitos.\n",
    "\n",
    "# Gráfico PMF teórica\n",
    "plt.figure(figsize = (10,5))\n",
    "\n",
    "# PMF teórica\n",
    "plt.bar(x, pmf_teo, alpha = 0.6, label = \"PMF Teórica (Binomial)\", color = \"blue\")\n",
    "\n",
    "# Histograma de datos simulados (frecuencia relativa)\n",
    "valores, cuentas = np.unique(simulacion, return_counts = True)\n",
    "plt.bar(valores, cuentas/ensambles, alpha = 0.6, label = \"Datos simulados\", color = \"orange\")\n",
    "\n",
    "plt.xlabel(\"Número de éxitos\")\n",
    "plt.ylabel(\"Probabilidad / Frecuencia relativa\")\n",
    "plt.title(\"Distribución Binomial Teórica vs Simulada\")\n",
    "plt.legend()\n",
    "plt.show()"
   ]
  },
  {
   "cell_type": "markdown",
   "id": "bf597eae9ceded4e",
   "metadata": {},
   "source": [
    "#### R// La forma del histograma (datos simulados) se ajusta bastante bien a la PMF teórica (curva azul). Los picos más altos están alrededor de 12 y 13, que coinciden con el valor esperado (media = 12)."
   ]
  },
  {
   "cell_type": "markdown",
   "id": "1f1686679d00f596",
   "metadata": {},
   "source": [
    "## 4. Realiza una prueba de bondad de ajuste para determinar si los datos simulados en el numeral 1 se ajustan a una distribución binomial con n=15 y p=0.8. ¿Los datos simulados son consistentes con la distribución binomial teórica? Justifica tu respuesta con el valor p obtenido."
   ]
  },
  {
   "cell_type": "code",
   "execution_count": 86,
   "id": "45fd1c3f6a96c55a",
   "metadata": {
    "ExecuteTime": {
     "end_time": "2025-09-18T00:52:50.863697Z",
     "start_time": "2025-09-18T00:52:50.855828Z"
    }
   },
   "outputs": [
    {
     "name": "stdout",
     "output_type": "stream",
     "text": [
      "\n",
      "---- Prueba de bondad de ajuste (Chi-cuadrado) ----\n",
      "Estadístico Chi-cuadrado: 4.23\n",
      "Valor p: 0.9969\n",
      "Conclusión: No se rechaza H0. Los datos simulados son consistentes con la binomial teórica.\n"
     ]
    }
   ],
   "source": [
    "# Frecuencias observadas en la simulación\n",
    "obs_freq = np.array([np.sum(simulacion == k) for k in x]) # Recorre todos los valores posibles de éxitos (k desde 0 hasta 15). Cuenta cuántas veces en la simulación se obtuvo exactamente ese número de éxitos y se construye así el vector de frecuencias observadas\n",
    "\n",
    "# Frecuencias esperadas según binomial\n",
    "exp_freq = ensambles * pmf_teo\n",
    "''' pmf_teo tiene las probabilidades teóricas de la binomial para cada valor de éxitos.\n",
    "Multiplicando esas probabilidades por el número de ensambles (100), se obtiene cuántas veces esperaríamos ver cada valor en promedio si la simulación sigue exactamente la binomial.\n",
    "'''\n",
    "\n",
    "# Prueba Chi-cuadrado\n",
    "chi2, p_val = chisquare(f_obs = obs_freq, f_exp = exp_freq) # Compara las frecuencias observadas (obs_freq) con las esperadas (exp_freq).\n",
    "\n",
    "print(\"\\n---- Prueba de bondad de ajuste (Chi-cuadrado) ----\")\n",
    "print(f\"Estadístico Chi-cuadrado: {chi2:.2f}\")\n",
    "print(f\"Valor p: {p_val:.4f}\")\n",
    "\n",
    "if p_val > 0.05:\n",
    "    print(\"Conclusión: No se rechaza H0. Los datos simulados son consistentes con la binomial teórica.\")\n",
    "else:\n",
    "    print(\"Conclusión: Se rechaza H0. Los datos simulados no se ajustan bien a la binomial teórica.\")"
   ]
  },
  {
   "cell_type": "markdown",
   "id": "a9a5a42d3e1f9469",
   "metadata": {},
   "source": [
    "#### R// El valor p = 0.9969 es muchísimo mayor que 0.05, no se rechaza H0 → los datos simulados son perfectamente consistentes con la distribución Binomial(15, 0.8). De hecho, el valor p tan alto muestra que la simulación encajó muy bien con la teoría."
   ]
  },
  {
   "cell_type": "code",
   "execution_count": null,
   "id": "c49970d0-3165-4898-8a70-8fe0efec25f1",
   "metadata": {},
   "outputs": [],
   "source": []
  }
 ],
 "metadata": {
  "kernelspec": {
   "display_name": "Python 3 (ipykernel)",
   "language": "python",
   "name": "python3"
  },
  "language_info": {
   "codemirror_mode": {
    "name": "ipython",
    "version": 3
   },
   "file_extension": ".py",
   "mimetype": "text/x-python",
   "name": "python",
   "nbconvert_exporter": "python",
   "pygments_lexer": "ipython3",
   "version": "3.13.0"
  }
 },
 "nbformat": 4,
 "nbformat_minor": 5
}
